{
 "cells": [
  {
   "metadata": {},
   "cell_type": "markdown",
   "source": "# Linear Regression  :  Predicting House Prices",
   "id": "5c1a1bf76b84e845"
  },
  {
   "metadata": {},
   "cell_type": "markdown",
   "source": [
    "#### Problem Statement \n",
    "\n",
    "You are provided with a dataset containing information about houses, including features like the size of the house (in a house based on square feet) and the number these features using lin linear of bedrooms. The goal is to predict the price of regression.\n",
    "\n",
    "| Size (sqft) | Bedrooms | Price ($) |\n",
    "|-------------|----------|-----------|\n",
    "| 2104        | 3        | 399900    |\n",
    "| 1600        | 3        | 329900    |\n",
    "| 2400        | 3        | 369000    |\n",
    "| 1416        | 2        | 232000    |\n",
    "| 3000        | 4        | 539900    |\n",
    "\n",
    "\n",
    "\n"
   ],
   "id": "cc3e24245933b968"
  },
  {
   "metadata": {},
   "cell_type": "markdown",
   "source": [
    "```python\n",
    "data = {\n",
    "    'Size (sqft)': [2104, 1600, 2400, 1416, 3000],\n",
    "    'Bedrooms': [3, 3, 3, 2, 4],\n",
    "    'Price ($)': [399900, 329900, 369000, 232000, 539900]\n",
    "}\n",
    "```\n"
   ],
   "id": "1537a35d24606300"
  },
  {
   "metadata": {},
   "cell_type": "markdown",
   "source": [
    "#### Create DataFrame\n",
    "```python\n",
    "import pandas as pd\n",
    "\n",
    "df = pd.DataFrame(data)\n",
    "df.head()\n",
    "```"
   ],
   "id": "8a054487f2f92a53"
  },
  {
   "metadata": {},
   "cell_type": "markdown",
   "source": [
    "#### Split the data into features (X) and target (y)\n",
    "```python\n",
    "X = df[['Size (sqft)', 'Bedrooms']]\n",
    "y = df['Price ($)']\n",
    "```"
   ],
   "id": "236a3e177df0e271"
  },
  {
   "metadata": {},
   "cell_type": "markdown",
   "source": [
    "#### Split the data into training and test sets\n",
    "```python\n",
    "from sklearn.model_selection import train_test_split\n",
    "\n",
    "X_train, X_test, y_train, y_test = train_test_split(X, y, test_size=0.2, random_state=42)\n",
    "```"
   ],
   "id": "681269e6240fea28"
  },
  {
   "metadata": {},
   "cell_type": "markdown",
   "source": [
    "#### Plot Size vs. Price\n",
    "```python\n",
    "import matplotlib.pyplot as plt\n",
    "\n",
    "plt.scatter(df['Size (sqft)'], df['Price ($)'], color='blue', label='Size')\n",
    "plt.xlabel('Size (sqft)')\n",
    "plt.ylabel('Price ($)')\n",
    "plt.title('Size vs Price')\n",
    "plt.show()\n",
    "```"
   ],
   "id": "6211911acbeaa0dd"
  },
  {
   "metadata": {},
   "cell_type": "markdown",
   "source": [
    "#### Plot Bedrooms vs. Price\n",
    "```python\n",
    "import matplotlib.pyplot as plt\n",
    "\n",
    "plt.scatter(df['Bedrooms'], df['Price ($)'], color='green', label='Bedrooms')\n",
    "\n",
    "plt.xlabel('Bedrooms')\n",
    "plt.ylabel('Price ($)')\n",
    "plt.title('Bedrooms vs Price')\n",
    "plt.show()\n",
    "```"
   ],
   "id": "c13a697ecfff04c5"
  },
  {
   "metadata": {},
   "cell_type": "markdown",
   "source": [
    "#### Define & Train a linear regression model\n",
    "```python\n",
    "from sklearn.linear_model import LinearRegression\n",
    "\n",
    "model = LinearRegression()\n",
    "model.fit(X_train, y_train)\n",
    "```"
   ],
   "id": "3426d12db267f2e9"
  },
  {
   "metadata": {},
   "cell_type": "markdown",
   "source": [
    "#### The intercept and coefficients\n",
    "```python\n",
    "theta0 = model.intercept_\n",
    "print(f\"Intercept (theta0) : {theta0}\")\n",
    "\n",
    "theta_1, theta_2 = model.coef_\n",
    "print(f\"Coefficient for size (theta_1) : {theta_1}\")\n",
    "print(f\"Coefficient for bedrooms (theta_2) : {theta_2}\")\n",
    "```"
   ],
   "id": "d5949e830d5b41a8"
  },
  {
   "metadata": {},
   "cell_type": "markdown",
   "source": [
    "#### Predict the price from sample data\n",
    "```python\n",
    "sample_data = [[2500, 3]]\n",
    "prediction = model.predict(sample_data)\n",
    "print(f\"Prediction for sample data {sample_data}: {prediction[0]:.2f}\")\n",
    "```"
   ],
   "id": "c523db38932f3ad1"
  },
  {
   "metadata": {},
   "cell_type": "markdown",
   "source": [
    "#### Make predictions\n",
    "```python\n",
    "y_pred = model.predict(X)\n",
    "df['Predicted Price ($)'] = y_pred.round(2)\n",
    "print(df)\n",
    "```"
   ],
   "id": "443649dc249c61a5"
  },
  {
   "metadata": {},
   "cell_type": "markdown",
   "source": [
    "#### Compare actual and predicted values\n",
    "```python\n",
    "comparison = pd.DataFrame({\n",
    "    'Actual Price in Y ': y,\n",
    "    'Predicted Price from model ': y_pred.round(2),\n",
    "    'Difference': (y - y_pred).round(2)\n",
    "})\n",
    "print(comparison)\n",
    "```"
   ],
   "id": "26dbbc1e3bfcbab6"
  },
  {
   "metadata": {
    "ExecuteTime": {
     "end_time": "2024-06-08T06:02:54.522246Z",
     "start_time": "2024-06-08T06:02:54.519027Z"
    }
   },
   "cell_type": "code",
   "source": "",
   "id": "99ca2ef728902494",
   "outputs": [],
   "execution_count": 1
  }
 ],
 "metadata": {
  "kernelspec": {
   "display_name": "Python 3",
   "language": "python",
   "name": "python3"
  },
  "language_info": {
   "codemirror_mode": {
    "name": "ipython",
    "version": 2
   },
   "file_extension": ".py",
   "mimetype": "text/x-python",
   "name": "python",
   "nbconvert_exporter": "python",
   "pygments_lexer": "ipython2",
   "version": "2.7.6"
  }
 },
 "nbformat": 4,
 "nbformat_minor": 5
}
