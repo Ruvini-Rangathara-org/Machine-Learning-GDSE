{
 "cells": [
  {
   "cell_type": "code",
   "id": "initial_id",
   "metadata": {
    "collapsed": true,
    "ExecuteTime": {
     "end_time": "2024-06-22T04:41:05.534342Z",
     "start_time": "2024-06-22T04:41:05.521870Z"
    }
   },
   "source": [
    "import pandas as pd\n",
    "\n",
    "df_orders = pd.read_csv('01  Handling Duplicate Data_orders.csv')"
   ],
   "outputs": [],
   "execution_count": 30
  },
  {
   "metadata": {
    "ExecuteTime": {
     "end_time": "2024-06-22T04:41:07.877528Z",
     "start_time": "2024-06-22T04:41:07.859468Z"
    }
   },
   "cell_type": "code",
   "source": "df_orders",
   "id": "6f4e1ca0c06b0882",
   "outputs": [
    {
     "data": {
      "text/plain": [
       "   OrderID  CustomerID   OrderDate  Amount\n",
       "0        1        1001  2023-01-01     150\n",
       "1        2        1002  2023-01-02     200\n",
       "2        3        1003  2023-01-03     250\n",
       "3        4        1004  2023-01-04     300\n",
       "4        5        1001  2023-01-01     150\n",
       "5        6        1002  2023-01-02     200\n",
       "6        7        1003  2023-01-03     250\n",
       "7        8        1005  2023-01-05     350\n",
       "8        9        1006  2023-01-06     400\n",
       "9       10        1007  2023-01-07     450"
      ],
      "text/html": [
       "<div>\n",
       "<style scoped>\n",
       "    .dataframe tbody tr th:only-of-type {\n",
       "        vertical-align: middle;\n",
       "    }\n",
       "\n",
       "    .dataframe tbody tr th {\n",
       "        vertical-align: top;\n",
       "    }\n",
       "\n",
       "    .dataframe thead th {\n",
       "        text-align: right;\n",
       "    }\n",
       "</style>\n",
       "<table border=\"1\" class=\"dataframe\">\n",
       "  <thead>\n",
       "    <tr style=\"text-align: right;\">\n",
       "      <th></th>\n",
       "      <th>OrderID</th>\n",
       "      <th>CustomerID</th>\n",
       "      <th>OrderDate</th>\n",
       "      <th>Amount</th>\n",
       "    </tr>\n",
       "  </thead>\n",
       "  <tbody>\n",
       "    <tr>\n",
       "      <th>0</th>\n",
       "      <td>1</td>\n",
       "      <td>1001</td>\n",
       "      <td>2023-01-01</td>\n",
       "      <td>150</td>\n",
       "    </tr>\n",
       "    <tr>\n",
       "      <th>1</th>\n",
       "      <td>2</td>\n",
       "      <td>1002</td>\n",
       "      <td>2023-01-02</td>\n",
       "      <td>200</td>\n",
       "    </tr>\n",
       "    <tr>\n",
       "      <th>2</th>\n",
       "      <td>3</td>\n",
       "      <td>1003</td>\n",
       "      <td>2023-01-03</td>\n",
       "      <td>250</td>\n",
       "    </tr>\n",
       "    <tr>\n",
       "      <th>3</th>\n",
       "      <td>4</td>\n",
       "      <td>1004</td>\n",
       "      <td>2023-01-04</td>\n",
       "      <td>300</td>\n",
       "    </tr>\n",
       "    <tr>\n",
       "      <th>4</th>\n",
       "      <td>5</td>\n",
       "      <td>1001</td>\n",
       "      <td>2023-01-01</td>\n",
       "      <td>150</td>\n",
       "    </tr>\n",
       "    <tr>\n",
       "      <th>5</th>\n",
       "      <td>6</td>\n",
       "      <td>1002</td>\n",
       "      <td>2023-01-02</td>\n",
       "      <td>200</td>\n",
       "    </tr>\n",
       "    <tr>\n",
       "      <th>6</th>\n",
       "      <td>7</td>\n",
       "      <td>1003</td>\n",
       "      <td>2023-01-03</td>\n",
       "      <td>250</td>\n",
       "    </tr>\n",
       "    <tr>\n",
       "      <th>7</th>\n",
       "      <td>8</td>\n",
       "      <td>1005</td>\n",
       "      <td>2023-01-05</td>\n",
       "      <td>350</td>\n",
       "    </tr>\n",
       "    <tr>\n",
       "      <th>8</th>\n",
       "      <td>9</td>\n",
       "      <td>1006</td>\n",
       "      <td>2023-01-06</td>\n",
       "      <td>400</td>\n",
       "    </tr>\n",
       "    <tr>\n",
       "      <th>9</th>\n",
       "      <td>10</td>\n",
       "      <td>1007</td>\n",
       "      <td>2023-01-07</td>\n",
       "      <td>450</td>\n",
       "    </tr>\n",
       "  </tbody>\n",
       "</table>\n",
       "</div>"
      ]
     },
     "execution_count": 31,
     "metadata": {},
     "output_type": "execute_result"
    }
   ],
   "execution_count": 31
  },
  {
   "metadata": {
    "ExecuteTime": {
     "end_time": "2024-06-22T04:23:18.430594Z",
     "start_time": "2024-06-22T04:23:18.420746Z"
    }
   },
   "cell_type": "code",
   "source": "df_orders.shape",
   "id": "914eb59629f9d824",
   "outputs": [
    {
     "data": {
      "text/plain": [
       "(10, 4)"
      ]
     },
     "execution_count": 4,
     "metadata": {},
     "output_type": "execute_result"
    }
   ],
   "execution_count": 4
  },
  {
   "metadata": {
    "ExecuteTime": {
     "end_time": "2024-06-22T04:41:45.790661Z",
     "start_time": "2024-06-22T04:41:45.780101Z"
    }
   },
   "cell_type": "code",
   "source": "print(df_orders.duplicated().sum())",
   "id": "47733614196b3b5d",
   "outputs": [
    {
     "name": "stdout",
     "output_type": "stream",
     "text": [
      "0\n"
     ]
    }
   ],
   "execution_count": 32
  },
  {
   "metadata": {
    "ExecuteTime": {
     "end_time": "2024-06-22T04:41:48.808319Z",
     "start_time": "2024-06-22T04:41:48.793700Z"
    }
   },
   "cell_type": "code",
   "source": "df_orders",
   "id": "2908c56ab26a3498",
   "outputs": [
    {
     "data": {
      "text/plain": [
       "   OrderID  CustomerID   OrderDate  Amount\n",
       "0        1        1001  2023-01-01     150\n",
       "1        2        1002  2023-01-02     200\n",
       "2        3        1003  2023-01-03     250\n",
       "3        4        1004  2023-01-04     300\n",
       "4        5        1001  2023-01-01     150\n",
       "5        6        1002  2023-01-02     200\n",
       "6        7        1003  2023-01-03     250\n",
       "7        8        1005  2023-01-05     350\n",
       "8        9        1006  2023-01-06     400\n",
       "9       10        1007  2023-01-07     450"
      ],
      "text/html": [
       "<div>\n",
       "<style scoped>\n",
       "    .dataframe tbody tr th:only-of-type {\n",
       "        vertical-align: middle;\n",
       "    }\n",
       "\n",
       "    .dataframe tbody tr th {\n",
       "        vertical-align: top;\n",
       "    }\n",
       "\n",
       "    .dataframe thead th {\n",
       "        text-align: right;\n",
       "    }\n",
       "</style>\n",
       "<table border=\"1\" class=\"dataframe\">\n",
       "  <thead>\n",
       "    <tr style=\"text-align: right;\">\n",
       "      <th></th>\n",
       "      <th>OrderID</th>\n",
       "      <th>CustomerID</th>\n",
       "      <th>OrderDate</th>\n",
       "      <th>Amount</th>\n",
       "    </tr>\n",
       "  </thead>\n",
       "  <tbody>\n",
       "    <tr>\n",
       "      <th>0</th>\n",
       "      <td>1</td>\n",
       "      <td>1001</td>\n",
       "      <td>2023-01-01</td>\n",
       "      <td>150</td>\n",
       "    </tr>\n",
       "    <tr>\n",
       "      <th>1</th>\n",
       "      <td>2</td>\n",
       "      <td>1002</td>\n",
       "      <td>2023-01-02</td>\n",
       "      <td>200</td>\n",
       "    </tr>\n",
       "    <tr>\n",
       "      <th>2</th>\n",
       "      <td>3</td>\n",
       "      <td>1003</td>\n",
       "      <td>2023-01-03</td>\n",
       "      <td>250</td>\n",
       "    </tr>\n",
       "    <tr>\n",
       "      <th>3</th>\n",
       "      <td>4</td>\n",
       "      <td>1004</td>\n",
       "      <td>2023-01-04</td>\n",
       "      <td>300</td>\n",
       "    </tr>\n",
       "    <tr>\n",
       "      <th>4</th>\n",
       "      <td>5</td>\n",
       "      <td>1001</td>\n",
       "      <td>2023-01-01</td>\n",
       "      <td>150</td>\n",
       "    </tr>\n",
       "    <tr>\n",
       "      <th>5</th>\n",
       "      <td>6</td>\n",
       "      <td>1002</td>\n",
       "      <td>2023-01-02</td>\n",
       "      <td>200</td>\n",
       "    </tr>\n",
       "    <tr>\n",
       "      <th>6</th>\n",
       "      <td>7</td>\n",
       "      <td>1003</td>\n",
       "      <td>2023-01-03</td>\n",
       "      <td>250</td>\n",
       "    </tr>\n",
       "    <tr>\n",
       "      <th>7</th>\n",
       "      <td>8</td>\n",
       "      <td>1005</td>\n",
       "      <td>2023-01-05</td>\n",
       "      <td>350</td>\n",
       "    </tr>\n",
       "    <tr>\n",
       "      <th>8</th>\n",
       "      <td>9</td>\n",
       "      <td>1006</td>\n",
       "      <td>2023-01-06</td>\n",
       "      <td>400</td>\n",
       "    </tr>\n",
       "    <tr>\n",
       "      <th>9</th>\n",
       "      <td>10</td>\n",
       "      <td>1007</td>\n",
       "      <td>2023-01-07</td>\n",
       "      <td>450</td>\n",
       "    </tr>\n",
       "  </tbody>\n",
       "</table>\n",
       "</div>"
      ]
     },
     "execution_count": 33,
     "metadata": {},
     "output_type": "execute_result"
    }
   ],
   "execution_count": 33
  },
  {
   "metadata": {
    "ExecuteTime": {
     "end_time": "2024-06-22T04:41:59.668534Z",
     "start_time": "2024-06-22T04:41:59.653557Z"
    }
   },
   "cell_type": "code",
   "source": "df_orders.duplicated(subset=['CustomerID', 'OrderDate', 'Amount'])",
   "id": "8e72d8834cf283c0",
   "outputs": [
    {
     "data": {
      "text/plain": [
       "0    False\n",
       "1    False\n",
       "2    False\n",
       "3    False\n",
       "4     True\n",
       "5     True\n",
       "6     True\n",
       "7    False\n",
       "8    False\n",
       "9    False\n",
       "dtype: bool"
      ]
     },
     "execution_count": 34,
     "metadata": {},
     "output_type": "execute_result"
    }
   ],
   "execution_count": 34
  },
  {
   "metadata": {
    "ExecuteTime": {
     "end_time": "2024-06-22T04:42:04.507591Z",
     "start_time": "2024-06-22T04:42:04.489522Z"
    }
   },
   "cell_type": "code",
   "source": "df_orders.duplicated(subset=['CustomerID', 'OrderDate', 'Amount']).sum()",
   "id": "82fa01dfba09890e",
   "outputs": [
    {
     "data": {
      "text/plain": [
       "3"
      ]
     },
     "execution_count": 35,
     "metadata": {},
     "output_type": "execute_result"
    }
   ],
   "execution_count": 35
  },
  {
   "metadata": {
    "ExecuteTime": {
     "end_time": "2024-06-22T04:42:07.200058Z",
     "start_time": "2024-06-22T04:42:07.188670Z"
    }
   },
   "cell_type": "code",
   "source": "df_orders.shape",
   "id": "ca68708650027c61",
   "outputs": [
    {
     "data": {
      "text/plain": [
       "(10, 4)"
      ]
     },
     "execution_count": 36,
     "metadata": {},
     "output_type": "execute_result"
    }
   ],
   "execution_count": 36
  },
  {
   "metadata": {
    "ExecuteTime": {
     "end_time": "2024-06-22T04:42:12.443269Z",
     "start_time": "2024-06-22T04:42:12.430698Z"
    }
   },
   "cell_type": "code",
   "source": [
    "# remove duplicates\n",
    "df_orders.drop_duplicates(subset=['CustomerID', 'OrderDate', 'Amount'], inplace=True, keep='first')"
   ],
   "id": "615d5b99321114f2",
   "outputs": [],
   "execution_count": 38
  },
  {
   "metadata": {
    "ExecuteTime": {
     "end_time": "2024-06-22T04:42:43.399934Z",
     "start_time": "2024-06-22T04:42:43.387893Z"
    }
   },
   "cell_type": "code",
   "source": "df_orders.duplicated(subset=['CustomerID', 'OrderDate', 'Amount']).sum()",
   "id": "64c3f57de9860709",
   "outputs": [
    {
     "data": {
      "text/plain": [
       "0"
      ]
     },
     "execution_count": 44,
     "metadata": {},
     "output_type": "execute_result"
    }
   ],
   "execution_count": 44
  },
  {
   "metadata": {
    "ExecuteTime": {
     "end_time": "2024-06-22T04:43:37.484633Z",
     "start_time": "2024-06-22T04:43:37.471603Z"
    }
   },
   "cell_type": "code",
   "source": "df_orders",
   "id": "2a12379355edd100",
   "outputs": [
    {
     "data": {
      "text/plain": [
       "   OrderID  CustomerID   OrderDate  Amount\n",
       "0        1        1001  2023-01-01     150\n",
       "1        2        1002  2023-01-02     200\n",
       "2        3        1003  2023-01-03     250\n",
       "3        4        1004  2023-01-04     300\n",
       "7        8        1005  2023-01-05     350\n",
       "8        9        1006  2023-01-06     400\n",
       "9       10        1007  2023-01-07     450"
      ],
      "text/html": [
       "<div>\n",
       "<style scoped>\n",
       "    .dataframe tbody tr th:only-of-type {\n",
       "        vertical-align: middle;\n",
       "    }\n",
       "\n",
       "    .dataframe tbody tr th {\n",
       "        vertical-align: top;\n",
       "    }\n",
       "\n",
       "    .dataframe thead th {\n",
       "        text-align: right;\n",
       "    }\n",
       "</style>\n",
       "<table border=\"1\" class=\"dataframe\">\n",
       "  <thead>\n",
       "    <tr style=\"text-align: right;\">\n",
       "      <th></th>\n",
       "      <th>OrderID</th>\n",
       "      <th>CustomerID</th>\n",
       "      <th>OrderDate</th>\n",
       "      <th>Amount</th>\n",
       "    </tr>\n",
       "  </thead>\n",
       "  <tbody>\n",
       "    <tr>\n",
       "      <th>0</th>\n",
       "      <td>1</td>\n",
       "      <td>1001</td>\n",
       "      <td>2023-01-01</td>\n",
       "      <td>150</td>\n",
       "    </tr>\n",
       "    <tr>\n",
       "      <th>1</th>\n",
       "      <td>2</td>\n",
       "      <td>1002</td>\n",
       "      <td>2023-01-02</td>\n",
       "      <td>200</td>\n",
       "    </tr>\n",
       "    <tr>\n",
       "      <th>2</th>\n",
       "      <td>3</td>\n",
       "      <td>1003</td>\n",
       "      <td>2023-01-03</td>\n",
       "      <td>250</td>\n",
       "    </tr>\n",
       "    <tr>\n",
       "      <th>3</th>\n",
       "      <td>4</td>\n",
       "      <td>1004</td>\n",
       "      <td>2023-01-04</td>\n",
       "      <td>300</td>\n",
       "    </tr>\n",
       "    <tr>\n",
       "      <th>7</th>\n",
       "      <td>8</td>\n",
       "      <td>1005</td>\n",
       "      <td>2023-01-05</td>\n",
       "      <td>350</td>\n",
       "    </tr>\n",
       "    <tr>\n",
       "      <th>8</th>\n",
       "      <td>9</td>\n",
       "      <td>1006</td>\n",
       "      <td>2023-01-06</td>\n",
       "      <td>400</td>\n",
       "    </tr>\n",
       "    <tr>\n",
       "      <th>9</th>\n",
       "      <td>10</td>\n",
       "      <td>1007</td>\n",
       "      <td>2023-01-07</td>\n",
       "      <td>450</td>\n",
       "    </tr>\n",
       "  </tbody>\n",
       "</table>\n",
       "</div>"
      ]
     },
     "execution_count": 45,
     "metadata": {},
     "output_type": "execute_result"
    }
   ],
   "execution_count": 45
  }
 ],
 "metadata": {
  "kernelspec": {
   "display_name": "Python 3",
   "language": "python",
   "name": "python3"
  },
  "language_info": {
   "codemirror_mode": {
    "name": "ipython",
    "version": 2
   },
   "file_extension": ".py",
   "mimetype": "text/x-python",
   "name": "python",
   "nbconvert_exporter": "python",
   "pygments_lexer": "ipython2",
   "version": "2.7.6"
  }
 },
 "nbformat": 4,
 "nbformat_minor": 5
}
